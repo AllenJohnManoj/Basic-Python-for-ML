{
  "nbformat": 4,
  "nbformat_minor": 0,
  "metadata": {
    "colab": {
      "provenance": [],
      "authorship_tag": "ABX9TyOFpMSrjniB3ht8OaiC/0Fm",
      "include_colab_link": true
    },
    "kernelspec": {
      "name": "python3",
      "display_name": "Python 3"
    },
    "language_info": {
      "name": "python"
    }
  },
  "cells": [
    {
      "cell_type": "markdown",
      "metadata": {
        "id": "view-in-github",
        "colab_type": "text"
      },
      "source": [
        "<a href=\"https://colab.research.google.com/github/AllenJohnManoj/Basic-Python-for-ML/blob/main/basicPythonProgramming.ipynb\" target=\"_parent\"><img src=\"https://colab.research.google.com/assets/colab-badge.svg\" alt=\"Open In Colab\"/></a>"
      ]
    },
    {
      "cell_type": "markdown",
      "source": [
        "##1. Program to find greatest of three numbers\n",
        "\n",
        ">**Step 1:** Read numbers from input\n",
        "\n",
        ">**Step 2:** Check if first number is greater than remaining numbers and assign \n",
        "\n",
        ">**Step 3:** Else, check if second number is greater than third number and assign\n",
        "\n",
        ">**Step 4:** Else, assign the third number,as it is the largest number\n",
        "\n"
      ],
      "metadata": {
        "id": "o5-y0jFTAc7w"
      }
    },
    {
      "cell_type": "code",
      "source": [
        "#uncomment following lines to take three numbers from user\n",
        "num1 = float(input(\"Enter first number: \"))\n",
        "num2 = float(input(\"Enter second number: \"))\n",
        "num3 = float(input(\"Enter third number: \"))\n",
        "if (num1 >= num2) and (num1 >= num3):\n",
        "   largest = num1\n",
        "elif (num2 >= num1) and (num2 >= num3):\n",
        "   largest = num2\n",
        "else:\n",
        "   largest = num3\n",
        "print(\"The largest number is\", largest)"
      ],
      "metadata": {
        "colab": {
          "base_uri": "https://localhost:8080/"
        },
        "id": "r2jxroHBBpex",
        "outputId": "22505172-df86-4ead-e606-f2bcd65edc91"
      },
      "execution_count": null,
      "outputs": [
        {
          "output_type": "stream",
          "name": "stdout",
          "text": [
            "Enter first number: 3\n",
            "Enter second number: 7\n",
            "Enter third number: 0\n",
            "The largest number is 7.0\n"
          ]
        }
      ]
    },
    {
      "cell_type": "markdown",
      "source": [
        "##2. Printing Multiplication Table\n",
        "\n",
        ">**Step 1:** Read input from user\n",
        "\n",
        ">**Step 2:** Initialize a `for` loop from 1-10\n",
        "\n",
        ">**Step 3:** Multiply each iteration with the user input and display\n"
      ],
      "metadata": {
        "id": "fmVcuRLNCUow"
      }
    },
    {
      "cell_type": "code",
      "source": [
        "# To take input from the user\n",
        "num = int(input(\"Display multiplication table of? \"))\n",
        "\n",
        "# Iterate 10 times from i = 1 to 10\n",
        "for i in range(1, 11):\n",
        "   print(num, 'x', i, '=', num*i)"
      ],
      "metadata": {
        "colab": {
          "base_uri": "https://localhost:8080/"
        },
        "id": "JHewtzCODRLQ",
        "outputId": "70554ff1-787d-4d62-fc09-57226924c0cd"
      },
      "execution_count": null,
      "outputs": [
        {
          "output_type": "stream",
          "name": "stdout",
          "text": [
            "Display multiplication table of? 9\n",
            "9 x 1 = 9\n",
            "9 x 2 = 18\n",
            "9 x 3 = 27\n",
            "9 x 4 = 36\n",
            "9 x 5 = 45\n",
            "9 x 6 = 54\n",
            "9 x 7 = 63\n",
            "9 x 8 = 72\n",
            "9 x 9 = 81\n",
            "9 x 10 = 90\n"
          ]
        }
      ]
    },
    {
      "cell_type": "markdown",
      "source": [
        "##3. Get the sign of a number\n",
        "\n",
        ">**Step 1:** Get input from user\n",
        "\n",
        ">**Step 2:** `if input > 0`, display that it's positive\n",
        "\n",
        ">**Step 3:** Else, `if input = 0`, display that it's zero\n",
        "\n",
        ">**Step 4:** Else, display that it's negative"
      ],
      "metadata": {
        "id": "IhzQj0R_Dg-A"
      }
    },
    {
      "cell_type": "code",
      "source": [
        "num = float(input(\"Enter a number: \"))\n",
        "if num > 0:\n",
        "   print(\"Positive number\")\n",
        "elif num == 0:\n",
        "   print(\"Zero\")\n",
        "else:\n",
        "   print(\"Negative number\")"
      ],
      "metadata": {
        "colab": {
          "base_uri": "https://localhost:8080/"
        },
        "id": "Z7WLAQIAEaEn",
        "outputId": "49f5931f-4730-4eb8-a0c1-92bcd608ce22"
      },
      "execution_count": null,
      "outputs": [
        {
          "output_type": "stream",
          "name": "stdout",
          "text": [
            "Enter a number: -5\n",
            "Negative number\n"
          ]
        }
      ]
    },
    {
      "cell_type": "markdown",
      "source": [
        "##4. Find the surface area and volume of a cylinder\n",
        "\n",
        ">**Step 1:** Read `r` and `h` from the user\n",
        "\n",
        ">**Step 2:** To find Surface area, apply the values to $$A=2πr(r+h)$$\n",
        "\n",
        ">**Step 3:** To find volume, apply the values to $$V=πr^2h$$"
      ],
      "metadata": {
        "id": "vbG0hBoREgf_"
      }
    },
    {
      "cell_type": "code",
      "source": [
        "pi=3.14\n",
        "r=float(input(\"Enter radius: \"))\n",
        "h=float(input(\"Enter height: \"))\n",
        "SA=2*pi*r*(r+h)\n",
        "V=pi*r**2*h\n",
        "print(\"Surface Area is\", SA, \"and Volume is\",V)"
      ],
      "metadata": {
        "colab": {
          "base_uri": "https://localhost:8080/"
        },
        "id": "resyk12LFr9H",
        "outputId": "ebc0c2ba-a3c2-4604-df69-0ca772b357be"
      },
      "execution_count": null,
      "outputs": [
        {
          "output_type": "stream",
          "name": "stdout",
          "text": [
            "Enter radius: 5\n",
            "Enter height: 7\n",
            "Surface Area is 376.8 and Volume is 549.5\n"
          ]
        }
      ]
    },
    {
      "cell_type": "markdown",
      "source": [
        "##5. Find the area of a circle\n",
        "\n",
        ">**Step 1:** Read radius `r` from user\n",
        "\n",
        ">**Step 2:**: Apply `r` to the equation $$A=\\pi r^2$$\n",
        "\n",
        ">**Step 3:** Display the area of the circle"
      ],
      "metadata": {
        "id": "B3KXHAHgGbt2"
      }
    },
    {
      "cell_type": "code",
      "source": [
        "r=float(input(\"Enter the radius: \"))\n",
        "print(\"Area: \",pi*r**2)"
      ],
      "metadata": {
        "colab": {
          "base_uri": "https://localhost:8080/"
        },
        "id": "vkxvxHGQG7lb",
        "outputId": "653eabf1-ea07-4a9c-f8e3-e0a13032a5bc"
      },
      "execution_count": null,
      "outputs": [
        {
          "output_type": "stream",
          "name": "stdout",
          "text": [
            "Enter the radius: 9\n",
            "Area:  254.34\n"
          ]
        }
      ]
    },
    {
      "cell_type": "markdown",
      "source": [
        "##6. Find area of a rectangle \n",
        "\n",
        ">**Step 1:** Read `l` and `b` from user\n",
        "\n",
        ">**Step 2:** Apply `l` and `b` to the formula $$A=lb$$\n",
        "\n",
        ">**Step 3:** Print the area\n"
      ],
      "metadata": {
        "id": "pYQaQuAJHZNv"
      }
    },
    {
      "cell_type": "code",
      "source": [
        "l=2;b=5.2\n",
        "Area=l*b\n",
        "print(\"Area of the Rectangle is : \",Area)"
      ],
      "metadata": {
        "colab": {
          "base_uri": "https://localhost:8080/"
        },
        "id": "zNcy92azJa2E",
        "outputId": "5b5363b5-da3d-4842-a3ff-0b75a6d4e368"
      },
      "execution_count": null,
      "outputs": [
        {
          "output_type": "stream",
          "name": "stdout",
          "text": [
            "Area of the Rectangle is :  10.4\n"
          ]
        }
      ]
    },
    {
      "cell_type": "markdown",
      "source": [
        "##7. Replacing a word with another word  in a sentence\n",
        "\n",
        ">**Step 1:** Read a string inputted by the user\n",
        "\n",
        ">**Step 2:** Read the word to be replaced in the string\n",
        "\n",
        ">**Step 3:** Display the new string"
      ],
      "metadata": {
        "id": "3kDd87k6Jdnc"
      }
    },
    {
      "cell_type": "code",
      "source": [
        "text = input(\"Enter string \")\n",
        "word = input(\"Enter the word to be replaced: \")\n",
        "rep = input(\"Enter the replaced word: \")\n",
        "replaced_text = text.replace(word, rep)\n",
        "print(replaced_text)"
      ],
      "metadata": {
        "colab": {
          "base_uri": "https://localhost:8080/"
        },
        "id": "tYa1e9uPJ__1",
        "outputId": "81e62f13-b46a-4b25-cc5b-6994c1954ced"
      },
      "execution_count": null,
      "outputs": [
        {
          "output_type": "stream",
          "name": "stdout",
          "text": [
            "Enter string Hello, My name is XYZ\n",
            "Enter the word to be replaced: XYZ\n",
            "Enter the replaced word: ABC\n",
            "Hello, My name is ABC\n"
          ]
        }
      ]
    },
    {
      "cell_type": "markdown",
      "source": [
        "##8. To remove a word from a string\n",
        "\n",
        ">**Step 1:** Read string from user\n",
        "\n",
        ">**Step 2:** Read the word to be removed, and alter string\n",
        "\n",
        ">**Step 3:** Display the new string"
      ],
      "metadata": {
        "id": "LLrudtH-KxOG"
      }
    },
    {
      "cell_type": "code",
      "source": [
        "text = input(\"Enter the string: \").split()\n",
        "word = input(\"Which word do you want to remove: \")\n",
        "for i in text:\n",
        "    if i == word:\n",
        "        text.remove(i)\n",
        "print(*text, sep=' ')"
      ],
      "metadata": {
        "colab": {
          "base_uri": "https://localhost:8080/"
        },
        "id": "18sVek-ALHZ2",
        "outputId": "37e0f8c2-9167-4498-93d4-ddfeb9a47bd7"
      },
      "execution_count": null,
      "outputs": [
        {
          "output_type": "stream",
          "name": "stdout",
          "text": [
            "Enter the string: Hello, My name is ABC\n",
            "Which word do you want to remove: Hello,\n",
            "My name is ABC\n"
          ]
        }
      ]
    },
    {
      "cell_type": "markdown",
      "source": [
        "##9. To split a string into words\n",
        "\n",
        ">**Step 1:** Read the string from user\n",
        "\n",
        ">**Step 2:** Use the `split()` attribute on the string\n",
        "\n",
        ">**Step 3:** Print the array of words"
      ],
      "metadata": {
        "id": "TukTdxW3Ntkc"
      }
    },
    {
      "cell_type": "code",
      "source": [
        "wordlist = input(\"Enter string: \").split()\n",
        "wordlist"
      ],
      "metadata": {
        "colab": {
          "base_uri": "https://localhost:8080/"
        },
        "id": "DBIiHjoMOAtd",
        "outputId": "295d85c9-5a8a-4e45-eefd-04592846c9e3"
      },
      "execution_count": null,
      "outputs": [
        {
          "name": "stdout",
          "output_type": "stream",
          "text": [
            "Enter string: Hello, my name is XYZ\n"
          ]
        },
        {
          "output_type": "execute_result",
          "data": {
            "text/plain": [
              "['Hello,', 'my', 'name', 'is', 'XYZ']"
            ]
          },
          "metadata": {},
          "execution_count": 25
        }
      ]
    },
    {
      "cell_type": "markdown",
      "source": [
        "##10. To check if a set of words are present in a string\n",
        "\n",
        ">**Step 1:** Get the list of words to check\n",
        "\n",
        ">**Step 2:** Read the string to be checked\n",
        "\n",
        ">**Step 3:** If the words are present in the string, display `Found list`"
      ],
      "metadata": {
        "id": "a8OqNYugOSPz"
      }
    },
    {
      "cell_type": "code",
      "source": [
        "keyword_list = ['motorcycle', 'bike', 'bicycle', 'dirtbike', \"long\"]\n",
        "all_text = 'The bicycle is just as good company as most husbands and, when it gets old and shabby, a woman can dispose of it and get a new one without shocking the entire community'\n",
        "if set(keyword_list).intersection(all_text.split()):\n",
        "     print(\"Found list\")"
      ],
      "metadata": {
        "colab": {
          "base_uri": "https://localhost:8080/"
        },
        "id": "XnrEku0eO0ZV",
        "outputId": "d731a69f-d0cb-4b03-e60f-d2515ef97623"
      },
      "execution_count": null,
      "outputs": [
        {
          "output_type": "stream",
          "name": "stdout",
          "text": [
            "Found One\n"
          ]
        }
      ]
    }
  ]
}